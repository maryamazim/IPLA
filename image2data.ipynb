{
 "cells": [
  {
   "cell_type": "code",
   "execution_count": null,
   "metadata": {},
   "outputs": [],
   "source": [
    "#import cv2\n",
    "#import time\n",
    "import numpy as np\n",
    "#from IPython.core.interactiveshell import InteractiveShell\n",
    "#InteractiveShell.ast_node_interactivity = \"all\"\n",
    "#import matplotlib.pyplot as plt\n",
    "import pandas as pd\n"
   ]
  },
  {
   "cell_type": "code",
   "execution_count": null,
   "metadata": {},
   "outputs": [],
   "source": [
    "def disp(image):\n",
    "    plt.imshow(cv2.cvtColor(image, cv2.COLOR_BGR2RGB))\n",
    "    return plt.show()"
   ]
  },
  {
   "cell_type": "code",
   "execution_count": null,
   "metadata": {},
   "outputs": [],
   "source": [
    "# Read File Names and Coordinates\n",
    "nnc = pd.read_csv(\"C:/Users/marya/Documents/QS-II/Analysis/CoordinateData.csv\")\n",
    "t2t = nnc['Picture'] # example element: 'IMG_0666'\n",
    "start_x = nnc['startx']\n",
    "start_y = nnc['starty']\n",
    "## print(range(len(t2t)))\n",
    "## nnc.head()\n",
    "## nnc.tail()\n",
    "## print(t2t)"
   ]
  },
  {
   "cell_type": "code",
   "execution_count": null,
   "metadata": {},
   "outputs": [],
   "source": [
    "# fixed parameters for all images\n",
    "vial_w = 223\n",
    "vial_d = 240\n",
    "dist = 342\n",
    "pic_w = 2950\n",
    "pic_d = 370\n",
    "n_vial = 6"
   ]
  },
  {
   "cell_type": "code",
   "execution_count": null,
   "metadata": {},
   "outputs": [],
   "source": [
    "path = \"C:/Users/marya/Documents/QS-II/QSPics-II/01-RHCulture/\"\n",
    "\n",
    "pixInt = []\n",
    "\n",
    "for t in range(len(t2t)):\n",
    "# for t in range(12,13):\n",
    "    pixInt1 = []\n",
    "\n",
    "    end_y = int(start_y[t] + pic_d)\n",
    "    y1 = int(start_y[t])\n",
    "    y2 = int(end_y)\n",
    "\n",
    "    img_fn = path + t2t[t] + \".JPG\"\n",
    "    img = cv2.imread(img_fn, cv2.IMREAD_COLOR)\n",
    "    for vial in range(1, (n_vial+1)):\n",
    "        x1 = int(start_x[t] - (dist/2) + (vial-1) * (vial_w + dist))\n",
    "        x2 = int(start_x[t] - (dist/2) + vial*(vial_w + dist))\n",
    "       \n",
    "        cropped_mean = img[y1:y2, x1:x2].mean()\n",
    "        pixInt1.append(cropped_mean)\n",
    "        ## disp(img[y1:y2, x1:x2])\n",
    "        \n",
    "    pixInt.append(pixInt1)\n",
    "rPixInt = np.around(np.array(pixInt), 6)\n",
    "\n",
    "print(rPixInt)"
   ]
  },
  {
   "cell_type": "code",
   "execution_count": null,
   "metadata": {},
   "outputs": [],
   "source": [
    "c = [i for i in range(len(t2t)) if i % 4 in (0,1)]\n",
    "f = [i for i in range(len(t2t)) if i % 4 in (2,3)]\n",
    "t2t_c = t2t[c]\n",
    "t2t_f = t2t[f]\n",
    "## print(t2t_c)\n",
    "## print(t2t_f)"
   ]
  },
  {
   "cell_type": "code",
   "execution_count": null,
   "metadata": {},
   "outputs": [],
   "source": [
    "\n",
    "# vials c - 15\n",
    "data_c = {'Image': t2t_c, 'Control_1': list(rPixInt[c,0]), 'Control_2': list(rPixInt[c,1]), 'Control_3': list(rPixInt[c,2]), 'Control_4': list(rPixInt[c,3]), 'MH15_1': list(rPixInt[c,4]), 'MH15_2': list(rPixInt[c,5])}\n",
    "df_c = pd.DataFrame(data_c)\n",
    "\n",
    "# vials 30 - 90\n",
    "data_f = {'Image': t2t_f, 'MH30_1': list(rPixInt[f,0]), 'MH30_2': list(rPixInt[f,1]), 'MH60_1': list(rPixInt[f,2]), 'MH60_2': list(rPixInt[f,3]), 'MH90_1': list(rPixInt[f,4]), 'MH90_2': list(rPixInt[f,5])}\n",
    "df_f = pd.DataFrame(data_f)"
   ]
  },
  {
   "cell_type": "code",
   "execution_count": null,
   "metadata": {},
   "outputs": [],
   "source": [
    "df_c.to_csv(r'./pixInt.csv_c-15.csv', index = False)\n",
    "df_f.to_csv(r'./pixInt.csv_30-90.csv', index = False)"
   ]
  }
 ],
 "metadata": {
  "kernelspec": {
   "display_name": "Python 3",
   "language": "python",
   "name": "python3"
  },
  "language_info": {
   "codemirror_mode": {
    "name": "ipython",
    "version": 3
   },
   "file_extension": ".py",
   "mimetype": "text/x-python",
   "name": "python",
   "nbconvert_exporter": "python",
   "pygments_lexer": "ipython3",
   "version": "3.8.5-final"
  }
 },
 "nbformat": 4,
 "nbformat_minor": 4
}